{
 "cells": [
  {
   "cell_type": "code",
   "execution_count": 10,
   "metadata": {},
   "outputs": [
    {
     "name": "stdout",
     "output_type": "stream",
     "text": [
      "env: KERAS_BACKEND=tensorflow\n"
     ]
    }
   ],
   "source": [
    "%env KERAS_BACKEND=tensorflow\n",
    "%matplotlib inline\n",
    "\n",
    "import numpy as np\n",
    "import matplotlib.pyplot as plt\n",
    "from keras.datasets import imdb\n",
    "from keras.preprocessing import sequence\n",
    "from keras.models import Sequential\n",
    "from keras.layers import Dense,Embedding,Dropout\n",
    "from keras.layers import LSTM"
   ]
  },
  {
   "cell_type": "code",
   "execution_count": 11,
   "metadata": {},
   "outputs": [],
   "source": [
    "(x_train,y_train),(x_test,y_test)=imdb.load_data(num_words=10000)"
   ]
  },
  {
   "cell_type": "code",
   "execution_count": 12,
   "metadata": {},
   "outputs": [],
   "source": [
    "x_train=sequence.pad_sequences(x_train,maxlen=150)\n",
    "x_test=sequence.pad_sequences(x_test,maxlen=150)"
   ]
  },
  {
   "cell_type": "markdown",
   "metadata": {},
   "source": [
    "增加資料壓縮維度，以及LSTM層的神經元個數"
   ]
  },
  {
   "cell_type": "code",
   "execution_count": 13,
   "metadata": {},
   "outputs": [],
   "source": [
    "N=20\n",
    "K=10"
   ]
  },
  {
   "cell_type": "markdown",
   "metadata": {},
   "source": [
    "加入dropuot防止過擬合"
   ]
  },
  {
   "cell_type": "code",
   "execution_count": 14,
   "metadata": {},
   "outputs": [],
   "source": [
    "model=Sequential()\n",
    "model.add(Embedding(10000,N))\n",
    "model.add(Dropout(0.5))\n",
    "model.add(LSTM(K))\n",
    "model.add(Dense(1,activation='sigmoid'))\n",
    "model.compile(loss='binary_crossentropy',optimizer='adam',metrics=['accuracy'])"
   ]
  },
  {
   "cell_type": "code",
   "execution_count": 15,
   "metadata": {},
   "outputs": [
    {
     "name": "stdout",
     "output_type": "stream",
     "text": [
      "_________________________________________________________________\n",
      "Layer (type)                 Output Shape              Param #   \n",
      "=================================================================\n",
      "embedding_2 (Embedding)      (None, None, 20)          200000    \n",
      "_________________________________________________________________\n",
      "dropout_1 (Dropout)          (None, None, 20)          0         \n",
      "_________________________________________________________________\n",
      "lstm_2 (LSTM)                (None, 10)                1240      \n",
      "_________________________________________________________________\n",
      "dense_2 (Dense)              (None, 1)                 11        \n",
      "=================================================================\n",
      "Total params: 201,251\n",
      "Trainable params: 201,251\n",
      "Non-trainable params: 0\n",
      "_________________________________________________________________\n"
     ]
    }
   ],
   "source": [
    "model.summary()"
   ]
  },
  {
   "cell_type": "code",
   "execution_count": 16,
   "metadata": {},
   "outputs": [
    {
     "name": "stdout",
     "output_type": "stream",
     "text": [
      "Epoch 1/5\n",
      "25000/25000 [==============================] - 54s 2ms/step - loss: 0.4774 - acc: 0.7738\n",
      "Epoch 2/5\n",
      "25000/25000 [==============================] - 56s 2ms/step - loss: 0.2884 - acc: 0.8846\n",
      "Epoch 3/5\n",
      "25000/25000 [==============================] - 58s 2ms/step - loss: 0.2367 - acc: 0.9073\n",
      "Epoch 4/5\n",
      "25000/25000 [==============================] - 58s 2ms/step - loss: 0.1950 - acc: 0.9268\n",
      "Epoch 5/5\n",
      "25000/25000 [==============================] - 59s 2ms/step - loss: 0.1723 - acc: 0.9350\n"
     ]
    },
    {
     "data": {
      "text/plain": [
       "<keras.callbacks.History at 0x255ac3d8b70>"
      ]
     },
     "execution_count": 16,
     "metadata": {},
     "output_type": "execute_result"
    }
   ],
   "source": [
    "model.fit(x_train,y_train,batch_size=32,epochs=5)"
   ]
  },
  {
   "cell_type": "code",
   "execution_count": 18,
   "metadata": {},
   "outputs": [
    {
     "name": "stdout",
     "output_type": "stream",
     "text": [
      "25000/25000 [==============================] - 8s 321us/step\n",
      "loss = 0.41342832098960874\n",
      "正確率 = 0.85392\n"
     ]
    }
   ],
   "source": [
    "score = model.evaluate(x_test,y_test)\n",
    "print(\"loss =\",score[0])\n",
    "print(\"正確率 =\",score[1])"
   ]
  },
  {
   "cell_type": "markdown",
   "metadata": {},
   "source": [
    "發現正確率只有0.854，可見增加K和N值是不夠增加準確率的。"
   ]
  },
  {
   "cell_type": "code",
   "execution_count": 19,
   "metadata": {},
   "outputs": [],
   "source": [
    "N=50\n",
    "K=30"
   ]
  },
  {
   "cell_type": "code",
   "execution_count": 20,
   "metadata": {},
   "outputs": [],
   "source": [
    "model=Sequential()\n",
    "model.add(Embedding(10000,N))\n",
    "model.add(Dropout(0.5))\n",
    "model.add(LSTM(K))\n",
    "model.add(Dense(1,activation='relu'))\n",
    "model.compile(loss='binary_crossentropy',optimizer='adam',metrics=['accuracy'])"
   ]
  },
  {
   "cell_type": "code",
   "execution_count": 21,
   "metadata": {},
   "outputs": [
    {
     "name": "stdout",
     "output_type": "stream",
     "text": [
      "_________________________________________________________________\n",
      "Layer (type)                 Output Shape              Param #   \n",
      "=================================================================\n",
      "embedding_3 (Embedding)      (None, None, 50)          500000    \n",
      "_________________________________________________________________\n",
      "dropout_2 (Dropout)          (None, None, 50)          0         \n",
      "_________________________________________________________________\n",
      "lstm_3 (LSTM)                (None, 30)                9720      \n",
      "_________________________________________________________________\n",
      "dense_3 (Dense)              (None, 1)                 31        \n",
      "=================================================================\n",
      "Total params: 509,751\n",
      "Trainable params: 509,751\n",
      "Non-trainable params: 0\n",
      "_________________________________________________________________\n"
     ]
    }
   ],
   "source": [
    "model.summary()"
   ]
  },
  {
   "cell_type": "code",
   "execution_count": 22,
   "metadata": {},
   "outputs": [
    {
     "name": "stdout",
     "output_type": "stream",
     "text": [
      "Epoch 1/5\n",
      "25000/25000 [==============================] - 62s 2ms/step - loss: 0.6292 - acc: 0.7102\n",
      "Epoch 2/5\n",
      "25000/25000 [==============================] - 67s 3ms/step - loss: 0.5075 - acc: 0.7705\n",
      "Epoch 3/5\n",
      "25000/25000 [==============================] - 67s 3ms/step - loss: 0.3391 - acc: 0.8713\n",
      "Epoch 4/5\n",
      "25000/25000 [==============================] - 68s 3ms/step - loss: 0.3334 - acc: 0.8698\n",
      "Epoch 5/5\n",
      "25000/25000 [==============================] - 68s 3ms/step - loss: 0.2857 - acc: 0.8972\n"
     ]
    },
    {
     "data": {
      "text/plain": [
       "<keras.callbacks.History at 0x255ad25b668>"
      ]
     },
     "execution_count": 22,
     "metadata": {},
     "output_type": "execute_result"
    }
   ],
   "source": [
    "model.fit(x_train,y_train,batch_size=32,epochs=5)"
   ]
  },
  {
   "cell_type": "code",
   "execution_count": 23,
   "metadata": {},
   "outputs": [
    {
     "name": "stdout",
     "output_type": "stream",
     "text": [
      "25000/25000 [==============================] - 10s 399us/step\n",
      "loss = 0.5413643427848815\n",
      "正確率 = 0.84968\n"
     ]
    }
   ],
   "source": [
    "score = model.evaluate(x_test,y_test)\n",
    "print(\"loss =\",score[0])\n",
    "print(\"正確率 =\",score[1])"
   ]
  },
  {
   "cell_type": "markdown",
   "metadata": {},
   "source": [
    "將activation改成relu，準確率反而下降了，所以把它改回sigmoid，並另外再加一層Dropout看看會不會提高準確率"
   ]
  },
  {
   "cell_type": "code",
   "execution_count": 24,
   "metadata": {},
   "outputs": [],
   "source": [
    "model=Sequential()\n",
    "model.add(Embedding(10000,N))\n",
    "model.add(Dropout(0.5))\n",
    "model.add(LSTM(K))\n",
    "model.add(Dropout(0.3))\n",
    "model.add(Dense(1,activation='sigmoid'))\n",
    "model.compile(loss='binary_crossentropy',optimizer='adam',metrics=['accuracy'])"
   ]
  },
  {
   "cell_type": "code",
   "execution_count": 25,
   "metadata": {
    "scrolled": true
   },
   "outputs": [
    {
     "name": "stdout",
     "output_type": "stream",
     "text": [
      "_________________________________________________________________\n",
      "Layer (type)                 Output Shape              Param #   \n",
      "=================================================================\n",
      "embedding_4 (Embedding)      (None, None, 50)          500000    \n",
      "_________________________________________________________________\n",
      "dropout_3 (Dropout)          (None, None, 50)          0         \n",
      "_________________________________________________________________\n",
      "lstm_4 (LSTM)                (None, 30)                9720      \n",
      "_________________________________________________________________\n",
      "dropout_4 (Dropout)          (None, 30)                0         \n",
      "_________________________________________________________________\n",
      "dense_4 (Dense)              (None, 1)                 31        \n",
      "=================================================================\n",
      "Total params: 509,751\n",
      "Trainable params: 509,751\n",
      "Non-trainable params: 0\n",
      "_________________________________________________________________\n"
     ]
    }
   ],
   "source": [
    "model.summary()"
   ]
  },
  {
   "cell_type": "code",
   "execution_count": 26,
   "metadata": {},
   "outputs": [
    {
     "name": "stdout",
     "output_type": "stream",
     "text": [
      "Epoch 1/5\n",
      "25000/25000 [==============================] - 62s 2ms/step - loss: 0.4124 - acc: 0.8044\n",
      "Epoch 2/5\n",
      "25000/25000 [==============================] - 68s 3ms/step - loss: 0.2554 - acc: 0.8995\n",
      "Epoch 3/5\n",
      "25000/25000 [==============================] - 68s 3ms/step - loss: 0.2080 - acc: 0.9206\n",
      "Epoch 4/5\n",
      "25000/25000 [==============================] - 68s 3ms/step - loss: 0.1775 - acc: 0.9322\n",
      "Epoch 5/5\n",
      "25000/25000 [==============================] - 69s 3ms/step - loss: 0.1527 - acc: 0.9429: 1s - loss: 0.\n"
     ]
    },
    {
     "data": {
      "text/plain": [
       "<keras.callbacks.History at 0x255a66ba390>"
      ]
     },
     "execution_count": 26,
     "metadata": {},
     "output_type": "execute_result"
    }
   ],
   "source": [
    "model.fit(x_train,y_train,batch_size=32,epochs=5)"
   ]
  },
  {
   "cell_type": "code",
   "execution_count": 27,
   "metadata": {},
   "outputs": [
    {
     "name": "stdout",
     "output_type": "stream",
     "text": [
      "25000/25000 [==============================] - 10s 397us/step\n",
      "loss = 0.4018251107501984\n",
      "正確率 = 0.85236\n"
     ]
    }
   ],
   "source": [
    "score = model.evaluate(x_test,y_test)\n",
    "print(\"loss =\",score[0])\n",
    "print(\"正確率 =\",score[1])"
   ]
  },
  {
   "cell_type": "markdown",
   "metadata": {},
   "source": [
    "發現正確率也沒有提高反而降低了"
   ]
  }
 ],
 "metadata": {
  "kernelspec": {
   "display_name": "Python 3",
   "language": "python",
   "name": "python3"
  },
  "language_info": {
   "codemirror_mode": {
    "name": "ipython",
    "version": 3
   },
   "file_extension": ".py",
   "mimetype": "text/x-python",
   "name": "python",
   "nbconvert_exporter": "python",
   "pygments_lexer": "ipython3",
   "version": "3.6.5"
  }
 },
 "nbformat": 4,
 "nbformat_minor": 2
}
