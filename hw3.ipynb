{
 "cells": [
  {
   "cell_type": "code",
   "execution_count": 4,
   "metadata": {},
   "outputs": [
    {
     "name": "stdout",
     "output_type": "stream",
     "text": [
      ">>F123456789\n",
      "3\n",
      "恭喜99元\n",
      ">>A144738505\n",
      "2\n",
      "299元\n",
      ">>bye\n",
      "0\n",
      "抱歉了你要付全額\n"
     ]
    }
   ],
   "source": [
    "%matplotlib inline\n",
    "import numpy as np\n",
    "import matplotlib.pyplot as plt\n",
    "import pandas as pd\n",
    "import random\n",
    "name=''\n",
    "while name!='bye':\n",
    "    s=0\n",
    "    name=input('>>')\n",
    "    name1=list(set(name))\n",
    "    namelist=list(name1)\n",
    "    L=np.array(namelist)\n",
    "    c=len(L)\n",
    "    for i in range (c):\n",
    "        if L[i]=='1':\n",
    "            s=s+1\n",
    "        elif L[i]=='2':\n",
    "            s=s+1\n",
    "        elif L[i]=='5':\n",
    "            s=s+1\n",
    "        else:\n",
    "            s=s\n",
    "    print(s)\n",
    "    if s==1:\n",
    "        print('399元')\n",
    "    elif s==2:\n",
    "        print('299元')\n",
    "    elif s==3:\n",
    "        print('恭喜99元')\n",
    "    else:\n",
    "        print('抱歉了你要付全額')"
   ]
  },
  {
   "cell_type": "code",
   "execution_count": null,
   "metadata": {},
   "outputs": [],
   "source": []
  },
  {
   "cell_type": "code",
   "execution_count": null,
   "metadata": {},
   "outputs": [],
   "source": []
  }
 ],
 "metadata": {
  "kernelspec": {
   "display_name": "Python 3",
   "language": "python",
   "name": "python3"
  },
  "language_info": {
   "codemirror_mode": {
    "name": "ipython",
    "version": 3
   },
   "file_extension": ".py",
   "mimetype": "text/x-python",
   "name": "python",
   "nbconvert_exporter": "python",
   "pygments_lexer": "ipython3",
   "version": "3.6.5"
  }
 },
 "nbformat": 4,
 "nbformat_minor": 2
}
