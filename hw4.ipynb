{
 "cells": [
  {
   "cell_type": "code",
   "execution_count": 1,
   "metadata": {},
   "outputs": [
    {
     "data": {
      "text/html": [
       "<div>\n",
       "<style scoped>\n",
       "    .dataframe tbody tr th:only-of-type {\n",
       "        vertical-align: middle;\n",
       "    }\n",
       "\n",
       "    .dataframe tbody tr th {\n",
       "        vertical-align: top;\n",
       "    }\n",
       "\n",
       "    .dataframe thead th {\n",
       "        text-align: right;\n",
       "    }\n",
       "</style>\n",
       "<table border=\"1\" class=\"dataframe\">\n",
       "  <thead>\n",
       "    <tr style=\"text-align: right;\">\n",
       "      <th></th>\n",
       "      <th>學校代碼</th>\n",
       "      <th>學校名稱</th>\n",
       "      <th>科系代碼</th>\n",
       "      <th>科系名稱</th>\n",
       "      <th>日間∕進修別</th>\n",
       "      <th>等級別</th>\n",
       "      <th>學生數</th>\n",
       "      <th>教師數</th>\n",
       "      <th>上學年度畢業生數</th>\n",
       "      <th>縣市名稱</th>\n",
       "      <th>體系別</th>\n",
       "    </tr>\n",
       "  </thead>\n",
       "  <tbody>\n",
       "    <tr>\n",
       "      <th>0</th>\n",
       "      <td>1</td>\n",
       "      <td>國立政治大學</td>\n",
       "      <td>01111001</td>\n",
       "      <td>教育學系</td>\n",
       "      <td>D 日</td>\n",
       "      <td>D 博士</td>\n",
       "      <td>111</td>\n",
       "      <td>0</td>\n",
       "      <td>18</td>\n",
       "      <td>30 臺北市</td>\n",
       "      <td>1 一般</td>\n",
       "    </tr>\n",
       "    <tr>\n",
       "      <th>1</th>\n",
       "      <td>1</td>\n",
       "      <td>國立政治大學</td>\n",
       "      <td>01111001</td>\n",
       "      <td>教育學系</td>\n",
       "      <td>D 日</td>\n",
       "      <td>M 碩士</td>\n",
       "      <td>45</td>\n",
       "      <td>0</td>\n",
       "      <td>11</td>\n",
       "      <td>30 臺北市</td>\n",
       "      <td>1 一般</td>\n",
       "    </tr>\n",
       "    <tr>\n",
       "      <th>2</th>\n",
       "      <td>1</td>\n",
       "      <td>國立政治大學</td>\n",
       "      <td>01111001</td>\n",
       "      <td>教育學系</td>\n",
       "      <td>D 日</td>\n",
       "      <td>B 學士</td>\n",
       "      <td>239</td>\n",
       "      <td>16</td>\n",
       "      <td>51</td>\n",
       "      <td>30 臺北市</td>\n",
       "      <td>1 一般</td>\n",
       "    </tr>\n",
       "    <tr>\n",
       "      <th>3</th>\n",
       "      <td>1</td>\n",
       "      <td>國立政治大學</td>\n",
       "      <td>01114005</td>\n",
       "      <td>教育行政與政策研究所</td>\n",
       "      <td>D 日</td>\n",
       "      <td>M 碩士</td>\n",
       "      <td>46</td>\n",
       "      <td>1</td>\n",
       "      <td>18</td>\n",
       "      <td>30 臺北市</td>\n",
       "      <td>1 一般</td>\n",
       "    </tr>\n",
       "    <tr>\n",
       "      <th>4</th>\n",
       "      <td>1</td>\n",
       "      <td>國立政治大學</td>\n",
       "      <td>01114006</td>\n",
       "      <td>學校行政碩士在職專班</td>\n",
       "      <td>N 職</td>\n",
       "      <td>M 碩士</td>\n",
       "      <td>81</td>\n",
       "      <td>0</td>\n",
       "      <td>15</td>\n",
       "      <td>30 臺北市</td>\n",
       "      <td>1 一般</td>\n",
       "    </tr>\n",
       "  </tbody>\n",
       "</table>\n",
       "</div>"
      ],
      "text/plain": [
       "   學校代碼    學校名稱      科系代碼        科系名稱 日間∕進修別   等級別  學生數  教師數  上學年度畢業生數  \\\n",
       "0     1  國立政治大學  01111001        教育學系    D 日  D 博士  111    0        18   \n",
       "1     1  國立政治大學  01111001        教育學系    D 日  M 碩士   45    0        11   \n",
       "2     1  國立政治大學  01111001        教育學系    D 日  B 學士  239   16        51   \n",
       "3     1  國立政治大學  01114005  教育行政與政策研究所    D 日  M 碩士   46    1        18   \n",
       "4     1  國立政治大學  01114006  學校行政碩士在職專班    N 職  M 碩士   81    0        15   \n",
       "\n",
       "     縣市名稱   體系別  \n",
       "0  30 臺北市  1 一般  \n",
       "1  30 臺北市  1 一般  \n",
       "2  30 臺北市  1 一般  \n",
       "3  30 臺北市  1 一般  \n",
       "4  30 臺北市  1 一般  "
      ]
     },
     "execution_count": 1,
     "metadata": {},
     "output_type": "execute_result"
    }
   ],
   "source": [
    "%matplotlib inline\n",
    "\n",
    "import numpy as np\n",
    "import matplotlib.pyplot as plt\n",
    "import pandas as pd\n",
    "import locale\n",
    "import matplotlib as mpl\n",
    "df1=pd.read_csv('https://quality.data.gov.tw/dq_download_csv.php?nid=9621&md5_url=8ae0214f8573ae27d20b890e984bfe55')\n",
    "df1.head()"
   ]
  },
  {
   "cell_type": "code",
   "execution_count": 2,
   "metadata": {},
   "outputs": [],
   "source": [
    "colnames = df1.loc[1].values\n",
    "mpl.rc('font', family = 'DejaVu Sans')"
   ]
  },
  {
   "cell_type": "code",
   "execution_count": 3,
   "metadata": {},
   "outputs": [],
   "source": [
    "ntu=df1[(df1['學校名稱']=='國立臺灣大學')&(df1['等級別']=='B 學士')]"
   ]
  },
  {
   "cell_type": "code",
   "execution_count": 4,
   "metadata": {},
   "outputs": [],
   "source": [
    "nthu=df1[(df1['學校名稱']=='國立清華大學')&(df1['等級別']=='B 學士')]"
   ]
  },
  {
   "cell_type": "code",
   "execution_count": 5,
   "metadata": {},
   "outputs": [],
   "source": [
    "nctu=df1[(df1['學校名稱']=='國立交通大學')&(df1['等級別']=='B 學士')]"
   ]
  },
  {
   "cell_type": "code",
   "execution_count": 6,
   "metadata": {},
   "outputs": [],
   "source": [
    "ncku=df1[(df1['學校名稱']=='國立成功大學')&(df1['等級別']=='B 學士')]"
   ]
  },
  {
   "cell_type": "code",
   "execution_count": 7,
   "metadata": {},
   "outputs": [
    {
     "data": {
      "text/plain": [
       "'Chinese (Traditional)_Taiwan.950'"
      ]
     },
     "execution_count": 7,
     "metadata": {},
     "output_type": "execute_result"
    }
   ],
   "source": [
    "locale.setlocale(locale.LC_NUMERIC,'')"
   ]
  },
  {
   "cell_type": "code",
   "execution_count": 8,
   "metadata": {},
   "outputs": [],
   "source": [
    "ntu2=ntu.loc[:,'學校名稱':'教師數'].copy()\n",
    "nthu2=nthu.loc[:,'學校名稱':'教師數'].copy()\n",
    "nctu2=nctu.loc[:,'學校名稱':'教師數'].copy()\n",
    "ncku2=ncku.loc[:,'學校名稱':'教師數'].copy()"
   ]
  },
  {
   "cell_type": "code",
   "execution_count": 9,
   "metadata": {},
   "outputs": [],
   "source": [
    "ntu2['學生數']=pd.to_numeric(ntu2.學生數, errors='coerce')\n",
    "nthu2['學生數']=pd.to_numeric(nthu2.學生數, errors='coerce')\n",
    "nctu2['學生數']=pd.to_numeric(nctu2.學生數, errors='coerce')\n",
    "ncku2['學生數']=pd.to_numeric(ncku2.學生數, errors='coerce')\n",
    "ntu2['教師數']=pd.to_numeric(ntu2.教師數, errors='coerce')\n",
    "nthu2['教師數']=pd.to_numeric(nthu2.教師數, errors='coerce')\n",
    "nctu2['教師數']=pd.to_numeric(nctu2.教師數, errors='coerce')\n",
    "ncku2['教師數']=pd.to_numeric(ncku2.教師數, errors='coerce')"
   ]
  },
  {
   "cell_type": "code",
   "execution_count": 10,
   "metadata": {},
   "outputs": [],
   "source": [
    "ntu2['師生比']=ntu2['教師數']/ntu2['學生數']\n",
    "nthu2['師生比']=nthu2['教師數']/nthu2['學生數']\n",
    "nctu2['師生比']=nctu2['教師數']/nctu2['學生數']\n",
    "ncku2['師生比']=ncku2['教師數']/ncku2['學生數']"
   ]
  },
  {
   "cell_type": "code",
   "execution_count": 13,
   "metadata": {},
   "outputs": [],
   "source": [
    "nturatio=ntu2.師生比.mean()"
   ]
  },
  {
   "cell_type": "code",
   "execution_count": 19,
   "metadata": {},
   "outputs": [],
   "source": [
    "nthuratio=nthu2.師生比.mean()\n",
    "ncturatio=nctu2.師生比.mean()\n",
    "nckuratio=ncku2.師生比.mean()"
   ]
  },
  {
   "cell_type": "markdown",
   "metadata": {},
   "source": [
    "將各校的師生比平均算出來，發現師生比的順序為:台、成、交、清"
   ]
  },
  {
   "cell_type": "code",
   "execution_count": 18,
   "metadata": {},
   "outputs": [
    {
     "name": "stdout",
     "output_type": "stream",
     "text": [
      "0.10197146497549453\n",
      "0.05227975044864927\n",
      "0.07741883114749747\n",
      "0.08520175237249322\n"
     ]
    }
   ],
   "source": [
    "print(nturatio)\n",
    "print(nthuratio)\n",
    "print(ncturatio)\n",
    "print(nckuratio)"
   ]
  },
  {
   "cell_type": "markdown",
   "metadata": {},
   "source": [
    "將學校各系的師生比印出來，順序為:台、清、交、成"
   ]
  },
  {
   "cell_type": "code",
   "execution_count": 16,
   "metadata": {},
   "outputs": [
    {
     "data": {
      "text/plain": [
       "<matplotlib.axes._subplots.AxesSubplot at 0x22bac11f208>"
      ]
     },
     "execution_count": 16,
     "metadata": {},
     "output_type": "execute_result"
    },
    {
     "data": {
      "image/png": "[encoded data removed]",
      "text/plain": [
       "<Figure size 432x288 with 1 Axes>"
      ]
     },
     "metadata": {},
     "output_type": "display_data"
    },
    {
     "data": {
      "image/png": "[encoded data removed]",
      "text/plain": [
       "<Figure size 432x288 with 1 Axes>"
      ]
     },
     "metadata": {},
     "output_type": "display_data"
    },
    {
     "data": {
      "image/png": "[encoded data removed]",
      "text/plain": [
       "<Figure size 432x288 with 1 Axes>"
      ]
     },
     "metadata": {},
     "output_type": "display_data"
    },
    {
     "data": {
      "image/png": "[encoded data removed]",
      "text/plain": [
       "<Figure size 432x288 with 1 Axes>"
      ]
     },
     "metadata": {},
     "output_type": "display_data"
    }
   ],
   "source": [
    "ntu2.plot.bar(x='科系名稱',y=['師生比'])\n",
    "nthu2.plot.bar(x='科系名稱',y=['師生比'])\n",
    "nctu2.plot.bar(x='科系名稱',y=['師生比'])\n",
    "ncku2.plot.bar(x='科系名稱',y=['師生比'])"
   ]
  },
  {
   "cell_type": "code",
   "execution_count": null,
   "metadata": {},
   "outputs": [],
   "source": []
  }
 ],
 "metadata": {
  "kernelspec": {
   "display_name": "Python 3",
   "language": "python",
   "name": "python3"
  },
  "language_info": {
   "codemirror_mode": {
    "name": "ipython",
    "version": 3
   },
   "file_extension": ".py",
   "mimetype": "text/x-python",
   "name": "python",
   "nbconvert_exporter": "python",
   "pygments_lexer": "ipython3",
   "version": "3.6.5"
  }
 },
 "nbformat": 4,
 "nbformat_minor": 2
}
