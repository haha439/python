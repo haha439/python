{
 "cells": [
  {
   "cell_type": "code",
   "execution_count": 13,
   "metadata": {},
   "outputs": [],
   "source": [
    "%matplotlib inline\n",
    "\n",
    "import numpy as np\n",
    "import matplotlib.pyplot as plt\n",
    "from keras.datasets import mnist\n",
    "from keras.utils import np_utils\n",
    "from keras.models import Sequential\n",
    "from keras.layers import Dense,Activation\n",
    "from keras.optimizers import SGD,Adam\n",
    "from ipywidgets import interact_manual"
   ]
  },
  {
   "cell_type": "code",
   "execution_count": 3,
   "metadata": {},
   "outputs": [],
   "source": [
    "(x_train,y_train),(x_test,y_test)=mnist.load_data()"
   ]
  },
  {
   "cell_type": "code",
   "execution_count": 4,
   "metadata": {},
   "outputs": [],
   "source": [
    "x_train=x_train.reshape(60000,784)/x_train.max()\n",
    "x_test=x_test.reshape(10000,784)/x_train.max()\n",
    "y_train=np_utils.to_categorical(y_train)\n",
    "y_test=np_utils.to_categorical(y_test)"
   ]
  },
  {
   "cell_type": "markdown",
   "metadata": {},
   "source": [
    "老師的範例"
   ]
  },
  {
   "cell_type": "code",
   "execution_count": 5,
   "metadata": {},
   "outputs": [
    {
     "name": "stdout",
     "output_type": "stream",
     "text": [
      "Epoch 1/20\n",
      "60000/60000 [==============================] - 1s 20us/step - loss: 0.0905 - acc: 0.0993\n",
      "Epoch 2/20\n",
      "60000/60000 [==============================] - 1s 12us/step - loss: 0.0903 - acc: 0.0993\n",
      "Epoch 3/20\n",
      "60000/60000 [==============================] - 1s 12us/step - loss: 0.0902 - acc: 0.0989\n",
      "Epoch 4/20\n",
      "60000/60000 [==============================] - 1s 12us/step - loss: 0.0901 - acc: 0.0962\n",
      "Epoch 5/20\n",
      "60000/60000 [==============================] - 1s 12us/step - loss: 0.0900 - acc: 0.0914\n",
      "Epoch 6/20\n",
      "60000/60000 [==============================] - 1s 12us/step - loss: 0.0899 - acc: 0.0992\n",
      "Epoch 7/20\n",
      "60000/60000 [==============================] - 1s 12us/step - loss: 0.0899 - acc: 0.1677\n",
      "Epoch 8/20\n",
      "60000/60000 [==============================] - 1s 12us/step - loss: 0.0898 - acc: 0.2355\n",
      "Epoch 9/20\n",
      "60000/60000 [==============================] - 1s 12us/step - loss: 0.0898 - acc: 0.2285\n",
      "Epoch 10/20\n",
      "60000/60000 [==============================] - 1s 12us/step - loss: 0.0897 - acc: 0.1938\n",
      "Epoch 11/20\n",
      "60000/60000 [==============================] - 1s 12us/step - loss: 0.0897 - acc: 0.1538\n",
      "Epoch 12/20\n",
      "60000/60000 [==============================] - 1s 12us/step - loss: 0.0897 - acc: 0.1232\n",
      "Epoch 13/20\n",
      "60000/60000 [==============================] - 1s 12us/step - loss: 0.0896 - acc: 0.1157\n",
      "Epoch 14/20\n",
      "60000/60000 [==============================] - 1s 12us/step - loss: 0.0896 - acc: 0.1322\n",
      "Epoch 15/20\n",
      "60000/60000 [==============================] - 1s 12us/step - loss: 0.0895 - acc: 0.1633\n",
      "Epoch 16/20\n",
      "60000/60000 [==============================] - 1s 12us/step - loss: 0.0895 - acc: 0.1764\n",
      "Epoch 17/20\n",
      "60000/60000 [==============================] - 1s 12us/step - loss: 0.0895 - acc: 0.1866\n",
      "Epoch 18/20\n",
      "60000/60000 [==============================] - 1s 12us/step - loss: 0.0894 - acc: 0.1985\n",
      "Epoch 19/20\n",
      "60000/60000 [==============================] - 1s 12us/step - loss: 0.0893 - acc: 0.2020\n",
      "Epoch 20/20\n",
      "60000/60000 [==============================] - 1s 12us/step - loss: 0.0893 - acc: 0.2023\n"
     ]
    },
    {
     "data": {
      "text/plain": [
       "<keras.callbacks.History at 0x22685be85f8>"
      ]
     },
     "execution_count": 5,
     "metadata": {},
     "output_type": "execute_result"
    }
   ],
   "source": [
    "model=Sequential()\n",
    "model.add(Dense(4,input_dim=784))\n",
    "model.add(Activation('sigmoid'))\n",
    "model.add(Dense(2))\n",
    "model.add(Activation('sigmoid'))\n",
    "model.add(Dense(10))\n",
    "model.add(Activation('softmax'))\n",
    "model.compile(loss='mse',optimizer=SGD(lr=0.087),metrics=['accuracy'])\n",
    "model.fit(x_train,y_train,batch_size=100,epochs=20)"
   ]
  },
  {
   "cell_type": "markdown",
   "metadata": {},
   "source": [
    "更改神經元數量和層數"
   ]
  },
  {
   "cell_type": "code",
   "execution_count": 6,
   "metadata": {},
   "outputs": [
    {
     "name": "stdout",
     "output_type": "stream",
     "text": [
      "Epoch 1/20\n",
      "60000/60000 [==============================] - 6s 92us/step - loss: 0.0903 - acc: 0.1071\n",
      "Epoch 2/20\n",
      "60000/60000 [==============================] - 5s 86us/step - loss: 0.0899 - acc: 0.1124\n",
      "Epoch 3/20\n",
      "60000/60000 [==============================] - 5s 85us/step - loss: 0.0899 - acc: 0.1124\n",
      "Epoch 4/20\n",
      "60000/60000 [==============================] - 5s 85us/step - loss: 0.0899 - acc: 0.1124\n",
      "Epoch 5/20\n",
      "60000/60000 [==============================] - 5s 87us/step - loss: 0.0899 - acc: 0.1124\n",
      "Epoch 6/20\n",
      "60000/60000 [==============================] - 5s 86us/step - loss: 0.0898 - acc: 0.1124\n",
      "Epoch 7/20\n",
      "60000/60000 [==============================] - 5s 88us/step - loss: 0.0898 - acc: 0.1124\n",
      "Epoch 8/20\n",
      "60000/60000 [==============================] - 5s 89us/step - loss: 0.0898 - acc: 0.1124\n",
      "Epoch 9/20\n",
      "60000/60000 [==============================] - 5s 89us/step - loss: 0.0897 - acc: 0.1124\n",
      "Epoch 10/20\n",
      "60000/60000 [==============================] - 5s 91us/step - loss: 0.0897 - acc: 0.1124\n",
      "Epoch 11/20\n",
      "60000/60000 [==============================] - 6s 92us/step - loss: 0.0897 - acc: 0.1124\n",
      "Epoch 12/20\n",
      "60000/60000 [==============================] - 6s 94us/step - loss: 0.0897 - acc: 0.1125\n",
      "Epoch 13/20\n",
      "60000/60000 [==============================] - 6s 97us/step - loss: 0.0896 - acc: 0.1125\n",
      "Epoch 14/20\n",
      "60000/60000 [==============================] - 6s 96us/step - loss: 0.0896 - acc: 0.1125\n",
      "Epoch 15/20\n",
      "60000/60000 [==============================] - 6s 99us/step - loss: 0.0896 - acc: 0.1150\n",
      "Epoch 16/20\n",
      "60000/60000 [==============================] - 6s 101us/step - loss: 0.0895 - acc: 0.1180\n",
      "Epoch 17/20\n",
      "60000/60000 [==============================] - 6s 99us/step - loss: 0.0895 - acc: 0.1132\n",
      "Epoch 18/20\n",
      "60000/60000 [==============================] - 6s 99us/step - loss: 0.0894 - acc: 0.1178\n",
      "Epoch 19/20\n",
      "60000/60000 [==============================] - 6s 94us/step - loss: 0.0894 - acc: 0.1179\n",
      "Epoch 20/20\n",
      "60000/60000 [==============================] - 6s 92us/step - loss: 0.0894 - acc: 0.1249\n"
     ]
    },
    {
     "data": {
      "text/plain": [
       "<keras.callbacks.History at 0x226860fd6d8>"
      ]
     },
     "execution_count": 6,
     "metadata": {},
     "output_type": "execute_result"
    }
   ],
   "source": [
    "model=Sequential()\n",
    "model.add(Dense(500,input_dim=784))\n",
    "model.add(Activation('sigmoid'))\n",
    "model.add(Dense(250))\n",
    "model.add(Activation('sigmoid'))\n",
    "model.add(Dense(100))\n",
    "model.add(Activation('sigmoid'))\n",
    "model.add(Dense(10))\n",
    "model.add(Activation('softmax'))\n",
    "model.compile(loss='mse',optimizer=SGD(lr=0.087),metrics=['accuracy'])\n",
    "model.fit(x_train,y_train,batch_size=100,epochs=20)"
   ]
  },
  {
   "cell_type": "markdown",
   "metadata": {},
   "source": [
    "更改激發函數為'relu'"
   ]
  },
  {
   "cell_type": "code",
   "execution_count": 7,
   "metadata": {},
   "outputs": [
    {
     "name": "stdout",
     "output_type": "stream",
     "text": [
      "Epoch 1/20\n",
      "60000/60000 [==============================] - 1s 15us/step - loss: 0.0896 - acc: 0.1320\n",
      "Epoch 2/20\n",
      "60000/60000 [==============================] - 1s 12us/step - loss: 0.0889 - acc: 0.1663\n",
      "Epoch 3/20\n",
      "60000/60000 [==============================] - 1s 12us/step - loss: 0.0879 - acc: 0.1573\n",
      "Epoch 4/20\n",
      "60000/60000 [==============================] - 1s 12us/step - loss: 0.0859 - acc: 0.1646\n",
      "Epoch 5/20\n",
      "60000/60000 [==============================] - 1s 12us/step - loss: 0.0838 - acc: 0.1797\n",
      "Epoch 6/20\n",
      "60000/60000 [==============================] - 1s 13us/step - loss: 0.0828 - acc: 0.1930\n",
      "Epoch 7/20\n",
      "60000/60000 [==============================] - 1s 12us/step - loss: 0.0823 - acc: 0.1985\n",
      "Epoch 8/20\n",
      "60000/60000 [==============================] - 1s 12us/step - loss: 0.0819 - acc: 0.2023\n",
      "Epoch 9/20\n",
      "60000/60000 [==============================] - 1s 12us/step - loss: 0.0815 - acc: 0.2084\n",
      "Epoch 10/20\n",
      "60000/60000 [==============================] - 1s 12us/step - loss: 0.0811 - acc: 0.2187\n",
      "Epoch 11/20\n",
      "60000/60000 [==============================] - 1s 12us/step - loss: 0.0807 - acc: 0.2319\n",
      "Epoch 12/20\n",
      "60000/60000 [==============================] - 1s 12us/step - loss: 0.0804 - acc: 0.2465\n",
      "Epoch 13/20\n",
      "60000/60000 [==============================] - 1s 13us/step - loss: 0.0800 - acc: 0.2198\n",
      "Epoch 14/20\n",
      "60000/60000 [==============================] - 1s 12us/step - loss: 0.0796 - acc: 0.1885\n",
      "Epoch 15/20\n",
      "60000/60000 [==============================] - 1s 12us/step - loss: 0.0793 - acc: 0.1937\n",
      "Epoch 16/20\n",
      "60000/60000 [==============================] - 1s 12us/step - loss: 0.0790 - acc: 0.1962\n",
      "Epoch 17/20\n",
      "60000/60000 [==============================] - 1s 12us/step - loss: 0.0787 - acc: 0.1975\n",
      "Epoch 18/20\n",
      "60000/60000 [==============================] - 1s 12us/step - loss: 0.0784 - acc: 0.2179\n",
      "Epoch 19/20\n",
      "60000/60000 [==============================] - 1s 12us/step - loss: 0.0781 - acc: 0.2905\n",
      "Epoch 20/20\n",
      "60000/60000 [==============================] - 1s 12us/step - loss: 0.0778 - acc: 0.2916\n"
     ]
    },
    {
     "data": {
      "text/plain": [
       "<keras.callbacks.History at 0x22685bb6eb8>"
      ]
     },
     "execution_count": 7,
     "metadata": {},
     "output_type": "execute_result"
    }
   ],
   "source": [
    "model=Sequential()\n",
    "model.add(Dense(4,input_dim=784))\n",
    "model.add(Activation('relu'))\n",
    "model.add(Dense(2))\n",
    "model.add(Activation('relu'))\n",
    "model.add(Dense(10))\n",
    "model.add(Activation('softmax'))\n",
    "model.compile(loss='mse',optimizer=SGD(lr=0.087),metrics=['accuracy'])\n",
    "model.fit(x_train,y_train,batch_size=100,epochs=20)"
   ]
  },
  {
   "cell_type": "markdown",
   "metadata": {},
   "source": [
    "更改激發函數為'elu'"
   ]
  },
  {
   "cell_type": "code",
   "execution_count": 10,
   "metadata": {},
   "outputs": [
    {
     "name": "stdout",
     "output_type": "stream",
     "text": [
      "Epoch 1/20\n",
      "60000/60000 [==============================] - 1s 16us/step - loss: 0.0887 - acc: 0.2116\n",
      "Epoch 2/20\n",
      "60000/60000 [==============================] - 1s 12us/step - loss: 0.0874 - acc: 0.2661\n",
      "Epoch 3/20\n",
      "60000/60000 [==============================] - 1s 12us/step - loss: 0.0861 - acc: 0.3217\n",
      "Epoch 4/20\n",
      "60000/60000 [==============================] - 1s 13us/step - loss: 0.0843 - acc: 0.2733\n",
      "Epoch 5/20\n",
      "60000/60000 [==============================] - 1s 13us/step - loss: 0.0811 - acc: 0.2930\n",
      "Epoch 6/20\n",
      "60000/60000 [==============================] - 1s 13us/step - loss: 0.0775 - acc: 0.3618\n",
      "Epoch 7/20\n",
      "60000/60000 [==============================] - 1s 12us/step - loss: 0.0749 - acc: 0.3759\n",
      "Epoch 8/20\n",
      "60000/60000 [==============================] - 1s 12us/step - loss: 0.0732 - acc: 0.3793\n",
      "Epoch 9/20\n",
      "60000/60000 [==============================] - 1s 12us/step - loss: 0.0719 - acc: 0.3817\n",
      "Epoch 10/20\n",
      "60000/60000 [==============================] - 1s 12us/step - loss: 0.0709 - acc: 0.3834\n",
      "Epoch 11/20\n",
      "60000/60000 [==============================] - 1s 12us/step - loss: 0.0700 - acc: 0.3853\n",
      "Epoch 12/20\n",
      "60000/60000 [==============================] - 1s 12us/step - loss: 0.0691 - acc: 0.3870\n",
      "Epoch 13/20\n",
      "60000/60000 [==============================] - 1s 12us/step - loss: 0.0682 - acc: 0.3898\n",
      "Epoch 14/20\n",
      "60000/60000 [==============================] - 1s 13us/step - loss: 0.0673 - acc: 0.3925\n",
      "Epoch 15/20\n",
      "60000/60000 [==============================] - 1s 12us/step - loss: 0.0665 - acc: 0.3960\n",
      "Epoch 16/20\n",
      "60000/60000 [==============================] - 1s 13us/step - loss: 0.0656 - acc: 0.4015\n",
      "Epoch 17/20\n",
      "60000/60000 [==============================] - 1s 12us/step - loss: 0.0649 - acc: 0.4080\n",
      "Epoch 18/20\n",
      "60000/60000 [==============================] - 1s 12us/step - loss: 0.0641 - acc: 0.4147\n",
      "Epoch 19/20\n",
      "60000/60000 [==============================] - 1s 13us/step - loss: 0.0634 - acc: 0.4225\n",
      "Epoch 20/20\n",
      "60000/60000 [==============================] - 1s 12us/step - loss: 0.0627 - acc: 0.4306\n"
     ]
    },
    {
     "data": {
      "text/plain": [
       "<keras.callbacks.History at 0x22687f30d30>"
      ]
     },
     "execution_count": 10,
     "metadata": {},
     "output_type": "execute_result"
    }
   ],
   "source": [
    "model=Sequential()\n",
    "model.add(Dense(4,input_dim=784))\n",
    "model.add(Activation('elu'))\n",
    "model.add(Dense(2))\n",
    "model.add(Activation('elu'))\n",
    "model.add(Dense(10))\n",
    "model.add(Activation('softmax'))\n",
    "model.compile(loss='mse',optimizer=SGD(lr=0.087),metrics=['accuracy'])\n",
    "model.fit(x_train,y_train,batch_size=100,epochs=20)"
   ]
  },
  {
   "cell_type": "markdown",
   "metadata": {},
   "source": [
    "調整lr"
   ]
  },
  {
   "cell_type": "code",
   "execution_count": 8,
   "metadata": {},
   "outputs": [
    {
     "name": "stdout",
     "output_type": "stream",
     "text": [
      "Epoch 1/20\n",
      "60000/60000 [==============================] - 1s 15us/step - loss: 0.0900 - acc: 0.1278\n",
      "Epoch 2/20\n",
      "60000/60000 [==============================] - 1s 12us/step - loss: 0.0893 - acc: 0.2022\n",
      "Epoch 3/20\n",
      "60000/60000 [==============================] - 1s 12us/step - loss: 0.0887 - acc: 0.2065\n",
      "Epoch 4/20\n",
      "60000/60000 [==============================] - 1s 12us/step - loss: 0.0876 - acc: 0.1849\n",
      "Epoch 5/20\n",
      "60000/60000 [==============================] - 1s 13us/step - loss: 0.0862 - acc: 0.1877\n",
      "Epoch 6/20\n",
      "60000/60000 [==============================] - 1s 12us/step - loss: 0.0847 - acc: 0.1904\n",
      "Epoch 7/20\n",
      "60000/60000 [==============================] - 1s 12us/step - loss: 0.0833 - acc: 0.1967\n",
      "Epoch 8/20\n",
      "60000/60000 [==============================] - 1s 12us/step - loss: 0.0818 - acc: 0.2040\n",
      "Epoch 9/20\n",
      "60000/60000 [==============================] - 1s 12us/step - loss: 0.0800 - acc: 0.2150\n",
      "Epoch 10/20\n",
      "60000/60000 [==============================] - 1s 12us/step - loss: 0.0781 - acc: 0.2390\n",
      "Epoch 11/20\n",
      "60000/60000 [==============================] - 1s 12us/step - loss: 0.0764 - acc: 0.2846\n",
      "Epoch 12/20\n",
      "60000/60000 [==============================] - 1s 13us/step - loss: 0.0751 - acc: 0.3153\n",
      "Epoch 13/20\n",
      "60000/60000 [==============================] - 1s 12us/step - loss: 0.0741 - acc: 0.3341\n",
      "Epoch 14/20\n",
      "60000/60000 [==============================] - 1s 12us/step - loss: 0.0733 - acc: 0.3399\n",
      "Epoch 15/20\n",
      "60000/60000 [==============================] - 1s 12us/step - loss: 0.0726 - acc: 0.3288\n",
      "Epoch 16/20\n",
      "60000/60000 [==============================] - 1s 12us/step - loss: 0.0720 - acc: 0.3411\n",
      "Epoch 17/20\n",
      "60000/60000 [==============================] - 1s 12us/step - loss: 0.0714 - acc: 0.3573\n",
      "Epoch 18/20\n",
      "60000/60000 [==============================] - 1s 13us/step - loss: 0.0708 - acc: 0.3683\n",
      "Epoch 19/20\n",
      "60000/60000 [==============================] - 1s 13us/step - loss: 0.0703 - acc: 0.3804\n",
      "Epoch 20/20\n",
      "60000/60000 [==============================] - 1s 12us/step - loss: 0.0699 - acc: 0.3865\n"
     ]
    },
    {
     "data": {
      "text/plain": [
       "<keras.callbacks.History at 0x22687a8be48>"
      ]
     },
     "execution_count": 8,
     "metadata": {},
     "output_type": "execute_result"
    }
   ],
   "source": [
    "model=Sequential()\n",
    "model.add(Dense(4,input_dim=784))\n",
    "model.add(Activation('sigmoid'))\n",
    "model.add(Dense(2))\n",
    "model.add(Activation('sigmoid'))\n",
    "model.add(Dense(10))\n",
    "model.add(Activation('softmax'))\n",
    "model.compile(loss='mse',optimizer=SGD(lr=1),metrics=['accuracy'])\n",
    "model.fit(x_train,y_train,batch_size=100,epochs=20)"
   ]
  },
  {
   "cell_type": "markdown",
   "metadata": {},
   "source": [
    "改變opetemizer為Adam"
   ]
  },
  {
   "cell_type": "code",
   "execution_count": 14,
   "metadata": {},
   "outputs": [
    {
     "name": "stdout",
     "output_type": "stream",
     "text": [
      "Epoch 1/20\n",
      "60000/60000 [==============================] - 1s 18us/step - loss: 0.0743 - acc: 0.2848\n",
      "Epoch 2/20\n",
      "60000/60000 [==============================] - 1s 13us/step - loss: 0.0725 - acc: 0.2938\n",
      "Epoch 3/20\n",
      "60000/60000 [==============================] - 1s 13us/step - loss: 0.0723 - acc: 0.2965\n",
      "Epoch 4/20\n",
      "60000/60000 [==============================] - 1s 13us/step - loss: 0.0724 - acc: 0.2943\n",
      "Epoch 5/20\n",
      "60000/60000 [==============================] - 1s 13us/step - loss: 0.0722 - acc: 0.2951\n",
      "Epoch 6/20\n",
      "60000/60000 [==============================] - 1s 13us/step - loss: 0.0723 - acc: 0.2972\n",
      "Epoch 7/20\n",
      "60000/60000 [==============================] - 1s 13us/step - loss: 0.0722 - acc: 0.2973\n",
      "Epoch 8/20\n",
      "60000/60000 [==============================] - 1s 13us/step - loss: 0.0721 - acc: 0.2970\n",
      "Epoch 9/20\n",
      "60000/60000 [==============================] - 1s 13us/step - loss: 0.0721 - acc: 0.2980\n",
      "Epoch 10/20\n",
      "60000/60000 [==============================] - 1s 13us/step - loss: 0.0721 - acc: 0.2999\n",
      "Epoch 11/20\n",
      "60000/60000 [==============================] - 1s 13us/step - loss: 0.0720 - acc: 0.2947\n",
      "Epoch 12/20\n",
      "60000/60000 [==============================] - 1s 13us/step - loss: 0.0721 - acc: 0.2964\n",
      "Epoch 13/20\n",
      "60000/60000 [==============================] - 1s 13us/step - loss: 0.0721 - acc: 0.2947\n",
      "Epoch 14/20\n",
      "60000/60000 [==============================] - 1s 14us/step - loss: 0.0722 - acc: 0.2985\n",
      "Epoch 15/20\n",
      "60000/60000 [==============================] - 1s 14us/step - loss: 0.0721 - acc: 0.2959\n",
      "Epoch 16/20\n",
      "60000/60000 [==============================] - 1s 13us/step - loss: 0.0720 - acc: 0.2991\n",
      "Epoch 17/20\n",
      "60000/60000 [==============================] - 1s 12us/step - loss: 0.0720 - acc: 0.2978\n",
      "Epoch 18/20\n",
      "60000/60000 [==============================] - 1s 13us/step - loss: 0.0721 - acc: 0.2976\n",
      "Epoch 19/20\n",
      "60000/60000 [==============================] - 1s 13us/step - loss: 0.0721 - acc: 0.2963\n",
      "Epoch 20/20\n",
      "60000/60000 [==============================] - 1s 13us/step - loss: 0.0719 - acc: 0.2973\n"
     ]
    },
    {
     "data": {
      "text/plain": [
       "<keras.callbacks.History at 0x226886178d0>"
      ]
     },
     "execution_count": 14,
     "metadata": {},
     "output_type": "execute_result"
    }
   ],
   "source": [
    "model=Sequential()\n",
    "model.add(Dense(4,input_dim=784))\n",
    "model.add(Activation('sigmoid'))\n",
    "model.add(Dense(2))\n",
    "model.add(Activation('sigmoid'))\n",
    "model.add(Dense(10))\n",
    "model.add(Activation('softmax'))\n",
    "model.compile(loss='mse',optimizer=Adam(lr=0.087),metrics=['accuracy'])\n",
    "model.fit(x_train,y_train,batch_size=100,epochs=20)"
   ]
  },
  {
   "cell_type": "markdown",
   "metadata": {},
   "source": [
    "因為改變個別參數發現準確率增加不明顯，所以一次性改變所有參數"
   ]
  },
  {
   "cell_type": "code",
   "execution_count": 9,
   "metadata": {},
   "outputs": [
    {
     "name": "stdout",
     "output_type": "stream",
     "text": [
      "Epoch 1/20\n",
      "60000/60000 [==============================] - 5s 77us/step - loss: 0.0232 - acc: 0.8507\n",
      "Epoch 2/20\n",
      "60000/60000 [==============================] - 4s 74us/step - loss: 0.0105 - acc: 0.9330\n",
      "Epoch 3/20\n",
      "60000/60000 [==============================] - 4s 74us/step - loss: 0.0082 - acc: 0.9490\n",
      "Epoch 4/20\n",
      "60000/60000 [==============================] - 5s 75us/step - loss: 0.0068 - acc: 0.9578\n",
      "Epoch 5/20\n",
      "60000/60000 [==============================] - 5s 75us/step - loss: 0.0058 - acc: 0.9645\n",
      "Epoch 6/20\n",
      "60000/60000 [==============================] - 4s 74us/step - loss: 0.0050 - acc: 0.9693\n",
      "Epoch 7/20\n",
      "60000/60000 [==============================] - 5s 75us/step - loss: 0.0044 - acc: 0.9742\n",
      "Epoch 8/20\n",
      "60000/60000 [==============================] - 4s 74us/step - loss: 0.0039 - acc: 0.9775\n",
      "Epoch 9/20\n",
      "60000/60000 [==============================] - 4s 74us/step - loss: 0.0035 - acc: 0.9804\n",
      "Epoch 10/20\n",
      "60000/60000 [==============================] - 4s 74us/step - loss: 0.0032 - acc: 0.9826\n",
      "Epoch 11/20\n",
      "60000/60000 [==============================] - 4s 74us/step - loss: 0.0029 - acc: 0.9843\n",
      "Epoch 12/20\n",
      "60000/60000 [==============================] - 4s 74us/step - loss: 0.0026 - acc: 0.9857\n",
      "Epoch 13/20\n",
      "60000/60000 [==============================] - 4s 71us/step - loss: 0.0024 - acc: 0.9868\n",
      "Epoch 14/20\n",
      "60000/60000 [==============================] - 4s 71us/step - loss: 0.0022 - acc: 0.9877\n",
      "Epoch 15/20\n",
      "60000/60000 [==============================] - 4s 72us/step - loss: 0.0020 - acc: 0.9893\n",
      "Epoch 16/20\n",
      "60000/60000 [==============================] - 4s 73us/step - loss: 0.0019 - acc: 0.9903\n",
      "Epoch 17/20\n",
      "60000/60000 [==============================] - 5s 77us/step - loss: 0.0018 - acc: 0.9908\n",
      "Epoch 18/20\n",
      "60000/60000 [==============================] - 4s 75us/step - loss: 0.0016 - acc: 0.9919\n",
      "Epoch 19/20\n",
      "60000/60000 [==============================] - 4s 73us/step - loss: 0.0015 - acc: 0.9926\n",
      "Epoch 20/20\n",
      "60000/60000 [==============================] - 4s 73us/step - loss: 0.0014 - acc: 0.9930\n"
     ]
    },
    {
     "data": {
      "text/plain": [
       "<keras.callbacks.History at 0x22687c907b8>"
      ]
     },
     "execution_count": 9,
     "metadata": {},
     "output_type": "execute_result"
    }
   ],
   "source": [
    "model=Sequential()\n",
    "model.add(Dense(500,input_dim=784))\n",
    "model.add(Activation('relu'))\n",
    "model.add(Dense(100))\n",
    "model.add(Activation('relu'))\n",
    "model.add(Dense(10))\n",
    "model.add(Activation('softmax'))\n",
    "model.compile(loss='mse',optimizer=SGD(lr=1),metrics=['accuracy'])\n",
    "model.fit(x_train,y_train,batch_size=100,epochs=20)"
   ]
  },
  {
   "cell_type": "markdown",
   "metadata": {},
   "source": [
    "發現正確率高達0.993，不過根據上面的測試，猜測當激發函數為elu的時候比relu高，所以嘗試看看改成elu的準確率"
   ]
  },
  {
   "cell_type": "code",
   "execution_count": 11,
   "metadata": {},
   "outputs": [
    {
     "name": "stdout",
     "output_type": "stream",
     "text": [
      "Epoch 1/20\n",
      "60000/60000 [==============================] - 5s 79us/step - loss: 0.0199 - acc: 0.8727\n",
      "Epoch 2/20\n",
      "60000/60000 [==============================] - 5s 76us/step - loss: 0.0122 - acc: 0.9208\n",
      "Epoch 3/20\n",
      "60000/60000 [==============================] - 5s 77us/step - loss: 0.0105 - acc: 0.9325\n",
      "Epoch 4/20\n",
      "60000/60000 [==============================] - 4s 75us/step - loss: 0.0091 - acc: 0.9416\n",
      "Epoch 5/20\n",
      "60000/60000 [==============================] - 5s 77us/step - loss: 0.0080 - acc: 0.9494\n",
      "Epoch 6/20\n",
      "60000/60000 [==============================] - 5s 77us/step - loss: 0.0072 - acc: 0.9547\n",
      "Epoch 7/20\n",
      "60000/60000 [==============================] - 5s 76us/step - loss: 0.0065 - acc: 0.9591\n",
      "Epoch 8/20\n",
      "60000/60000 [==============================] - 4s 74us/step - loss: 0.0060 - acc: 0.9629\n",
      "Epoch 9/20\n",
      "60000/60000 [==============================] - 5s 76us/step - loss: 0.0055 - acc: 0.9658\n",
      "Epoch 10/20\n",
      "60000/60000 [==============================] - 5s 77us/step - loss: 0.0051 - acc: 0.9690\n",
      "Epoch 11/20\n",
      "60000/60000 [==============================] - 5s 78us/step - loss: 0.0048 - acc: 0.9714\n",
      "Epoch 12/20\n",
      "60000/60000 [==============================] - 5s 77us/step - loss: 0.0045 - acc: 0.9735\n",
      "Epoch 13/20\n",
      "60000/60000 [==============================] - 5s 76us/step - loss: 0.0042 - acc: 0.9750\n",
      "Epoch 14/20\n",
      "60000/60000 [==============================] - 5s 79us/step - loss: 0.0040 - acc: 0.9764\n",
      "Epoch 15/20\n",
      "60000/60000 [==============================] - 5s 80us/step - loss: 0.0038 - acc: 0.9781\n",
      "Epoch 16/20\n",
      "60000/60000 [==============================] - 5s 80us/step - loss: 0.0036 - acc: 0.9789\n",
      "Epoch 17/20\n",
      "60000/60000 [==============================] - 5s 79us/step - loss: 0.0034 - acc: 0.9802\n",
      "Epoch 18/20\n",
      "60000/60000 [==============================] - 5s 80us/step - loss: 0.0033 - acc: 0.9812\n",
      "Epoch 19/20\n",
      "60000/60000 [==============================] - 5s 80us/step - loss: 0.0031 - acc: 0.9824\n",
      "Epoch 20/20\n",
      "60000/60000 [==============================] - 5s 81us/step - loss: 0.0030 - acc: 0.9831\n"
     ]
    },
    {
     "data": {
      "text/plain": [
       "<keras.callbacks.History at 0x2268860fe10>"
      ]
     },
     "execution_count": 11,
     "metadata": {},
     "output_type": "execute_result"
    }
   ],
   "source": [
    "model=Sequential()\n",
    "model.add(Dense(500,input_dim=784))\n",
    "model.add(Activation('elu'))\n",
    "model.add(Dense(100))\n",
    "model.add(Activation('elu'))\n",
    "model.add(Dense(10))\n",
    "model.add(Activation('softmax'))\n",
    "model.compile(loss='mse',optimizer=SGD(lr=1),metrics=['accuracy'])\n",
    "model.fit(x_train,y_train,batch_size=100,epochs=20)"
   ]
  },
  {
   "cell_type": "markdown",
   "metadata": {},
   "source": []
  }
 ],
 "metadata": {
  "kernelspec": {
   "display_name": "Python 3",
   "language": "python",
   "name": "python3"
  },
  "language_info": {
   "codemirror_mode": {
    "name": "ipython",
    "version": 3
   },
   "file_extension": ".py",
   "mimetype": "text/x-python",
   "name": "python",
   "nbconvert_exporter": "python",
   "pygments_lexer": "ipython3",
   "version": "3.6.5"
  }
 },
 "nbformat": 4,
 "nbformat_minor": 2
}
