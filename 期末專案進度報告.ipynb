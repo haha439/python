{
 "cells": [
  {
   "cell_type": "markdown",
   "metadata": {},
   "source": [
    "組員:林暐盛、吳祐韶、王捷弘"
   ]
  },
  {
   "cell_type": "markdown",
   "metadata": {},
   "source": [
    "主題:未來氣溫預測"
   ]
  },
  {
   "cell_type": "markdown",
   "metadata": {},
   "source": [
    "題目介紹:\n",
    "    每天晚上，我們總是會習慣去看看氣象預報，來決定明天甚至這禮拜的活動，但是有時候氣象預報的溫度都不太準確，所以我們想要嘗試利用前幾年的歷史氣溫資料，以及前一個禮拜的氣溫資料，來預測這禮拜的氣溫。"
   ]
  },
  {
   "cell_type": "markdown",
   "metadata": {},
   "source": [
    "實作方法:\n",
    "\n",
    "    input data: 1897-2018 的歷史氣溫資料以及前一個禮拜的氣溫資料。\n",
    "    \n",
    "    output data:這個禮拜預測出來的氣溫資料。\n",
    "    \n",
    "    訓練完之後只需要輸入前一個禮拜的氣溫就可以得到這一個禮拜的氣溫資料。"
   ]
  },
  {
   "cell_type": "markdown",
   "metadata": {},
   "source": [
    "專案排程:\n",
    "\n",
    "    5/24-5/27 尋找需要的歷史資料並做預先整理。\n",
    "    \n",
    "    5/27-5/31 訓練模型並進行所需的調整。\n",
    "    \n",
    "    5/31-6/5 將遇到的問題紀錄並解決，統整測試出來的結果，並將其撰寫成報告。"
   ]
  },
  {
   "cell_type": "markdown",
   "metadata": {},
   "source": [
    "目前進度:\n",
    "    \n",
    "    已將資料整理完畢，準備來做訓練模型。"
   ]
  }
 ],
 "metadata": {
  "kernelspec": {
   "display_name": "Python 3",
   "language": "python",
   "name": "python3"
  },
  "language_info": {
   "codemirror_mode": {
    "name": "ipython",
    "version": 3
   },
   "file_extension": ".py",
   "mimetype": "text/x-python",
   "name": "python",
   "nbconvert_exporter": "python",
   "pygments_lexer": "ipython3",
   "version": "3.6.5"
  }
 },
 "nbformat": 4,
 "nbformat_minor": 2
}
